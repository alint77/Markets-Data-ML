{
 "cells": [
  {
   "cell_type": "code",
   "execution_count": 1,
   "metadata": {},
   "outputs": [],
   "source": [
    "import tensorflow as tf\n",
    "\n",
    "import tensorflow.keras as keras\n",
    "import tensorflow.keras.utils as utils\n",
    "import pandas as pd\n",
    "import numpy as np\n",
    "# import matplotlib.pyplot as plt\n",
    "import ta \n",
    "import datetime"
   ]
  },
  {
   "cell_type": "code",
   "execution_count": null,
   "metadata": {},
   "outputs": [],
   "source": [
    "\n",
    "csvFileAddress = input('csv file address') \n",
    "\n",
    "DJ = pd.read_csv(csvFileAddress,delim_whitespace=True)\n",
    "\n",
    "DJ['<ISGREEN>'] =  DJ['<CLOSE>'] > DJ['<OPEN>']\n",
    "DJ['<SIZE>'] =  (DJ['<CLOSE>'] - DJ['<OPEN>']) / DJ['<CLOSE>'] *100\n",
    "DJ['<VOLATILITY>'] =  DJ['<HIGH>'] - DJ['<LOW>'] /DJ['<CLOSE>']\n",
    "\n",
    "DJ.drop(['<VOL>'],axis=1,inplace=True)\n",
    "\n",
    "DJ.fillna(0,inplace=True)\n",
    "\n",
    "DJ['<EMA30>']= ta.trend.ema_indicator( DJ['<CLOSE>'],window=30)\n",
    "DJ['<EMA50>']= ta.trend.ema_indicator( DJ['<CLOSE>'],window=50)\n",
    "DJ['<EMA200>']= ta.trend.ema_indicator( DJ['<CLOSE>'],window=200)\n",
    "\n",
    "def Upper(e):\n",
    "    if e['<ISGREEN>'] : \n",
    "        return e['<HIGH>']-e['<CLOSE>']\n",
    "    return e['<HIGH>']-e['<OPEN>']\n",
    "\n",
    "def Lower(e):\n",
    "    if e['<ISGREEN>'] : \n",
    "        return e['<OPEN>']-e['<LOW>']\n",
    "    return e['<CLOSE>']-e['<LOW>']\n",
    "\n",
    "\n",
    "DJ['<UPPER>'] = DJ.apply(Upper,axis=1)\n",
    "DJ['<LOWER>'] = DJ.apply(Lower,axis=1)\n",
    "\n",
    "\n",
    "\n",
    "\n",
    "\n"
   ]
  },
  {
   "cell_type": "code",
   "execution_count": null,
   "metadata": {},
   "outputs": [],
   "source": [
    "\n",
    "# Adding TA indicators : \n",
    "\n",
    "from ta.volatility import BollingerBands,KeltnerChannel,average_true_range\n",
    "from ta.trend import MACD\n",
    "\n",
    "DJ['<RSI>'] = ta.momentum.rsi(DJ['<CLOSE>'],window=15,fillna=1) / 100\n",
    "# DJ['<CCI>'] = ta.trend.cci(close=DJ['<CLOSE>'],high=DJ['<HIGH>'],low=DJ['<LOW>'],window=14,fillna=1)\n",
    "\n",
    "\n",
    "keltner = KeltnerChannel(close=DJ['<CLOSE>'],high=DJ['<HIGH>'],low=DJ['<LOW>'],window=50,window_atr=20,multiplier=3,fillna=1)\n",
    "DJ['<KELTNER_H>'] = keltner.keltner_channel_hband()\n",
    "DJ['<KELTNER_L>'] = keltner.keltner_channel_lband()\n",
    "DJ['<KELTNER_M>'] = keltner.keltner_channel_mband()\n",
    "\n",
    "DJ['<KELT_L_IND>'] = keltner.keltner_channel_lband_indicator()\n",
    "DJ['<KELT_H_IND>'] = keltner.keltner_channel_hband_indicator()\n",
    "\n",
    "\n",
    "\n",
    "bollinger =BollingerBands(close=DJ['<CLOSE>'],window=50,window_dev=3,fillna=True)\n",
    "DJ['<BOL_H_IND>']=bollinger.bollinger_hband_indicator()\n",
    "DJ['<BOL_L_IND>']=bollinger.bollinger_lband_indicator()\n",
    "\n",
    "# macd = MACD(DJ['<CLOSE>'],fillna=True)\n",
    "\n",
    "\n",
    "DJ['<ATR_24>'] = average_true_range(close=DJ['<CLOSE>'],high=DJ['<HIGH>'],low=DJ['<LOW>'],window=30).apply(lambda e : e/100)\n",
    "DJ['<ATR_24_MULT>'] =abs(DJ['<SIZE>']) / DJ['<ATR_24>'] \n",
    "\n",
    "\n",
    "DJ[\"<ISGREEN>\"] = DJ[\"<ISGREEN>\"].astype(int)\n",
    "\n"
   ]
  },
  {
   "cell_type": "code",
   "execution_count": null,
   "metadata": {},
   "outputs": [],
   "source": [
    "timeFrame = (int(DJ.iloc[1][1][1])-int(DJ.iloc[0][1][1]) ) * 60 + (int(DJ.iloc[1][1][3:5])-int(DJ.iloc[0][1][3:5]))\n",
    "CandlesInDay = 24 * (60//timeFrame)\n",
    "timeFrame\n",
    "def candleToTime(j):\n",
    "    minuteMult = CandlesInDay//24\n",
    "    k=j//minuteMult\n",
    "    sth=timeFrame*(j%minuteMult)\n",
    "    return '{:02d}:{:02d}:00'.format(k,sth)\n",
    "\n",
    "uniqueDays = DJ.drop_duplicates(subset='<DATE>')\n",
    "uniqueDays = pd.DataFrame(uniqueDays)\n",
    "\n",
    "uniqueDaysCount=uniqueDays.shape[0]\n",
    "\n",
    "newnumparr = np.full((uniqueDaysCount*CandlesInDay,2),'',dtype=np.object_)\n",
    "\n",
    "\n",
    "for i in range(uniqueDaysCount):\n",
    "    for j in range(CandlesInDay):\n",
    "        newnumparr[(i*CandlesInDay)+j]=[uniqueDays.iloc[i][0],candleToTime(j)]\n",
    "\n",
    "newDF = pd.DataFrame(newnumparr,columns=['<DATE>','<TIME>'])\n",
    "\n",
    "newestDF = newDF.merge(DJ,on=['<DATE>','<TIME>'],how='left')\n"
   ]
  },
  {
   "cell_type": "code",
   "execution_count": null,
   "metadata": {},
   "outputs": [],
   "source": [
    "newestDF.drop(range(CandlesInDay),inplace=True)\n",
    "newestDF.fillna(0.0,inplace=True)"
   ]
  },
  {
   "cell_type": "code",
   "execution_count": null,
   "metadata": {},
   "outputs": [],
   "source": [
    "startCandleHour = 1\n",
    "startCandleIndex = int(startCandleHour * CandlesInDay )// 24\n",
    "\n",
    "windowLengthHour = 22\n",
    "windowLengthCount = int(windowLengthHour * CandlesInDay) // 24\n",
    "\n",
    "\n",
    "\n",
    "# labelStartCandleHour = startCandleHour+windowLengthHour\n",
    "# labelStartCandleIndex = int(labelStartCandleHour * CandlesInDay) // 24\n",
    "\n",
    "labelWindowLengthHour = 2\n",
    "labelWindowLengthCount = int(labelWindowLengthHour * CandlesInDay) // 24"
   ]
  },
  {
   "cell_type": "code",
   "execution_count": null,
   "metadata": {},
   "outputs": [],
   "source": []
  }
 ],
 "metadata": {
  "kernelspec": {
   "display_name": "Python 3.9.12 ('tf')",
   "language": "python",
   "name": "python3"
  },
  "language_info": {
   "codemirror_mode": {
    "name": "ipython",
    "version": 3
   },
   "file_extension": ".py",
   "mimetype": "text/x-python",
   "name": "python",
   "nbconvert_exporter": "python",
   "pygments_lexer": "ipython3",
   "version": "3.9.12"
  },
  "orig_nbformat": 4,
  "vscode": {
   "interpreter": {
    "hash": "8f28b946a23085e562808fe655c9ec93beea4426c1b8daeb4e80eba8c1a3d75c"
   }
  }
 },
 "nbformat": 4,
 "nbformat_minor": 2
}
