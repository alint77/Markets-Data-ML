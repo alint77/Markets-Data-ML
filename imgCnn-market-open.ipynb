{
 "cells": [
  {
   "cell_type": "code",
   "execution_count": 1,
   "metadata": {},
   "outputs": [],
   "source": [
    "import tensorflow as tf\n",
    "import mplfinance as mpf\n",
    "import tensorflow.keras as keras\n",
    "import tensorflow.keras.utils as utils\n",
    "import pandas as pd\n",
    "import numpy as np\n",
    "import matplotlib.pyplot as plt\n",
    "import ta\n",
    "import datetime"
   ]
  },
  {
   "cell_type": "code",
   "execution_count": 2,
   "metadata": {},
   "outputs": [
    {
     "data": {
      "text/html": [
       "<div>\n",
       "<style scoped>\n",
       "    .dataframe tbody tr th:only-of-type {\n",
       "        vertical-align: middle;\n",
       "    }\n",
       "\n",
       "    .dataframe tbody tr th {\n",
       "        vertical-align: top;\n",
       "    }\n",
       "\n",
       "    .dataframe thead th {\n",
       "        text-align: right;\n",
       "    }\n",
       "</style>\n",
       "<table border=\"1\" class=\"dataframe\">\n",
       "  <thead>\n",
       "    <tr style=\"text-align: right;\">\n",
       "      <th></th>\n",
       "      <th>&lt;DATE&gt;</th>\n",
       "      <th>&lt;TIME&gt;</th>\n",
       "      <th>&lt;OPEN&gt;</th>\n",
       "      <th>&lt;HIGH&gt;</th>\n",
       "      <th>&lt;LOW&gt;</th>\n",
       "      <th>&lt;CLOSE&gt;</th>\n",
       "      <th>&lt;TICKVOL&gt;</th>\n",
       "      <th>&lt;SPREAD&gt;</th>\n",
       "    </tr>\n",
       "  </thead>\n",
       "  <tbody>\n",
       "    <tr>\n",
       "      <th>0</th>\n",
       "      <td>2021.01.20</td>\n",
       "      <td>00:00:00</td>\n",
       "      <td>0.0</td>\n",
       "      <td>0.0</td>\n",
       "      <td>0.0</td>\n",
       "      <td>0.0</td>\n",
       "      <td>0.0</td>\n",
       "      <td>0.0</td>\n",
       "    </tr>\n",
       "    <tr>\n",
       "      <th>1</th>\n",
       "      <td>2021.01.20</td>\n",
       "      <td>00:05:00</td>\n",
       "      <td>0.0</td>\n",
       "      <td>0.0</td>\n",
       "      <td>0.0</td>\n",
       "      <td>0.0</td>\n",
       "      <td>0.0</td>\n",
       "      <td>0.0</td>\n",
       "    </tr>\n",
       "    <tr>\n",
       "      <th>2</th>\n",
       "      <td>2021.01.20</td>\n",
       "      <td>00:10:00</td>\n",
       "      <td>0.0</td>\n",
       "      <td>0.0</td>\n",
       "      <td>0.0</td>\n",
       "      <td>0.0</td>\n",
       "      <td>0.0</td>\n",
       "      <td>0.0</td>\n",
       "    </tr>\n",
       "    <tr>\n",
       "      <th>3</th>\n",
       "      <td>2021.01.20</td>\n",
       "      <td>00:15:00</td>\n",
       "      <td>0.0</td>\n",
       "      <td>0.0</td>\n",
       "      <td>0.0</td>\n",
       "      <td>0.0</td>\n",
       "      <td>0.0</td>\n",
       "      <td>0.0</td>\n",
       "    </tr>\n",
       "    <tr>\n",
       "      <th>4</th>\n",
       "      <td>2021.01.20</td>\n",
       "      <td>00:20:00</td>\n",
       "      <td>0.0</td>\n",
       "      <td>0.0</td>\n",
       "      <td>0.0</td>\n",
       "      <td>0.0</td>\n",
       "      <td>0.0</td>\n",
       "      <td>0.0</td>\n",
       "    </tr>\n",
       "  </tbody>\n",
       "</table>\n",
       "</div>"
      ],
      "text/plain": [
       "       <DATE>    <TIME>  <OPEN>  <HIGH>  <LOW>  <CLOSE>  <TICKVOL>  <SPREAD>\n",
       "0  2021.01.20  00:00:00     0.0     0.0    0.0      0.0        0.0       0.0\n",
       "1  2021.01.20  00:05:00     0.0     0.0    0.0      0.0        0.0       0.0\n",
       "2  2021.01.20  00:10:00     0.0     0.0    0.0      0.0        0.0       0.0\n",
       "3  2021.01.20  00:15:00     0.0     0.0    0.0      0.0        0.0       0.0\n",
       "4  2021.01.20  00:20:00     0.0     0.0    0.0      0.0        0.0       0.0"
      ]
     },
     "execution_count": 2,
     "metadata": {},
     "output_type": "execute_result"
    }
   ],
   "source": [
    "csvFileAddress = input('csv file address') \n",
    "\n",
    "DJ = pd.read_csv(csvFileAddress,delim_whitespace=True)\n",
    "\n",
    "DJ.drop(['<VOL>'],axis=1,inplace=True)\n",
    "\n",
    "\n",
    "timeFrame = (int(DJ.iloc[1][1][1])-int(DJ.iloc[0][1][1]) ) * 60 + (int(DJ.iloc[1][1][3:5])-int(DJ.iloc[0][1][3:5]))\n",
    "CandlesInDay = 24 * (60//timeFrame)\n",
    "timeFrame\n",
    "def candleToTime(j):\n",
    "    minuteMult = CandlesInDay//24\n",
    "    k=j//minuteMult\n",
    "    sth=timeFrame*(j%minuteMult)\n",
    "    return '{:02d}:{:02d}:00'.format(k,sth)\n",
    "\n",
    "uniqueDays = DJ.drop_duplicates(subset='<DATE>')\n",
    "uniqueDays = pd.DataFrame(uniqueDays)\n",
    "\n",
    "uniqueDaysCount=uniqueDays.shape[0]\n",
    "\n",
    "newnumparr = np.full((uniqueDaysCount*CandlesInDay,2),'',dtype=np.object_)\n",
    "\n",
    "\n",
    "for i in range(uniqueDaysCount):\n",
    "    for j in range(CandlesInDay):\n",
    "        newnumparr[(i*CandlesInDay)+j]=[uniqueDays.iloc[i][0],candleToTime(j)]\n",
    "\n",
    "newDF = pd.DataFrame(newnumparr,columns=['<DATE>','<TIME>'])\n",
    "\n",
    "newestDF = newDF.merge(DJ,on=['<DATE>','<TIME>'],how='left')\n",
    "\n",
    "newestDF.fillna(0,inplace=True)\n",
    "\n",
    "uniqueDaysCount\n",
    "\n",
    "newestDF.head()"
   ]
  },
  {
   "cell_type": "code",
   "execution_count": null,
   "metadata": {},
   "outputs": [],
   "source": []
  },
  {
   "cell_type": "code",
   "execution_count": 3,
   "metadata": {},
   "outputs": [],
   "source": [
    "timeFrame = (int(newestDF.iloc[1]['<TIME>'][1])-int(newestDF.iloc[0]['<TIME>'][1]) ) * 60 + (int(newestDF.iloc[1]['<TIME>'][3:5])-int(newestDF.iloc[0]['<TIME>'][3:5]))\n",
    "CandlesInDay = 24 * (60//timeFrame)\n",
    "uniqueDaysCount = len(newestDF)//CandlesInDay"
   ]
  },
  {
   "cell_type": "code",
   "execution_count": null,
   "metadata": {},
   "outputs": [],
   "source": []
  },
  {
   "cell_type": "code",
   "execution_count": 4,
   "metadata": {},
   "outputs": [],
   "source": [
    "startCandleHour = 9.5\n",
    "startCandleIndex = int(startCandleHour * CandlesInDay )// 24\n",
    "\n",
    "windowLengthHour = 1.25\n",
    "windowLengthCount = int(windowLengthHour * CandlesInDay) // 24\n",
    "\n",
    "\n",
    "labelStartCandleHour = startCandleHour+windowLengthHour\n",
    "labelStartCandleIndex = int(labelStartCandleHour * CandlesInDay) // 24\n",
    "\n",
    "labelWindowLengthHour = 1\n",
    "labelWindowLengthCount = int(labelWindowLengthHour * CandlesInDay) // 24\n"
   ]
  },
  {
   "cell_type": "code",
   "execution_count": null,
   "metadata": {},
   "outputs": [],
   "source": []
  },
  {
   "cell_type": "code",
   "execution_count": 5,
   "metadata": {},
   "outputs": [],
   "source": [
    "takeProfitPoints = 1.0015\n",
    "stopLoss = .9985\n",
    "\n",
    "df = newestDF.drop(['<DATE>'],axis=1)\n",
    "\n",
    "trainNPs = []\n",
    "labelsDFs = []\n",
    "labelValues = []\n",
    "trainDFs = []\n",
    "\n",
    "maxValues = df.max()\n",
    "\n",
    "for i in range(0,len(df)-CandlesInDay , CandlesInDay):\n",
    "    trainDF = df.iloc[i+startCandleIndex : (i+startCandleIndex +windowLengthCount)]\n",
    "    labelDF = df.iloc[i+labelStartCandleIndex :(i+labelStartCandleIndex+labelWindowLengthCount) ]\n",
    "\n",
    "    lowestIndex = labelDF['<LOW>'].idxmin()\n",
    "    lowestPriceInLabels = labelDF['<LOW>'][lowestIndex]\n",
    "\n",
    "    highesIndex = labelDF['<HIGH>'].idxmax()\n",
    "    highestPriceInLabels = labelDF['<HIGH>'][highesIndex]\n",
    "\n",
    "    TP = labelDF['<OPEN>'].iloc[0]*takeProfitPoints\n",
    "    SL = labelDF['<OPEN>'].iloc[0]*stopLoss\n",
    "\n",
    "    buySignal = 0\n",
    "\n",
    "    if highestPriceInLabels < TP and lowestPriceInLabels > SL:\n",
    "        # ideas : halfTP\n",
    "        buySignal=2\n",
    "        \n",
    "    elif highestPriceInLabels < TP and lowestPriceInLabels < SL:\n",
    "        buySignal = 0\n",
    "    elif highestPriceInLabels > TP and lowestPriceInLabels > SL:\n",
    "        buySignal = 1\n",
    "    else :\n",
    "        tpIndex = 0\n",
    "        slIndex = 0\n",
    "        for j in range(len(labelDF)):\n",
    "            if labelDF['<HIGH>'].iloc[j] > TP and labelDF['<LOW>'].iloc[j]>SL :\n",
    "                tpIndex=j\n",
    "            if labelDF['<HIGH>'].iloc[j] < TP and labelDF['<LOW>'].iloc[j]>SL :\n",
    "                continue\n",
    "            if labelDF['<HIGH>'].iloc[j] < TP and labelDF['<LOW>'].iloc[j]<SL :\n",
    "                slIndex=j\n",
    "        buySignal = int(tpIndex<slIndex)\n",
    "        if slIndex==tpIndex:\n",
    "            continue\n",
    "    \n",
    "\n",
    "    # trainDF =  trainDF /df.abs().max()\n",
    "\n",
    "    # trainDF = trainDF.drop(['<OPEN>','<ATR_24>','<EMA30>','<RSI>','<CCI>','<KELTNER_M>','<KELTNER_L>','<KELTNER_H>','<GREEN>'],axis=1)\n",
    "    trainDFColumnsArr = ['<TIME>','<LOW>','<HIGH>','<OPEN>','<CLOSE>','<TICKVOL>']\n",
    "    trainDFColumnsExcludeTime = trainDFColumnsArr[1:]\n",
    "    \n",
    "    trainDF = trainDF[trainDFColumnsArr]\n",
    "    trainDF['<TIME>']=pd.to_datetime(trainDF['<TIME>'],infer_datetime_format=1)\n",
    "\n",
    "\n",
    "\n",
    "    # trainDF[trainDFColumnsExcludeTime]=(trainDF[trainDFColumnsExcludeTime]-df[trainDFColumnsExcludeTime].min())/(df[trainDFColumnsExcludeTime].max()-df[trainDFColumnsExcludeTime].min())\n",
    "    \n",
    "    trainNp =(trainDF.to_numpy(dtype=np.float32))\n",
    "    # trainNp = np.rot90( trainDF.to_numpy())\n",
    "\n",
    "\n",
    "    labelValues.append(buySignal)\n",
    "    trainNPs.append(trainNp)\n",
    "    trainDFs.append(trainDF)\n",
    "    \n",
    "    labelsDFs.append(labelDF)\n"
   ]
  },
  {
   "cell_type": "code",
   "execution_count": 6,
   "metadata": {},
   "outputs": [
    {
     "data": {
      "text/plain": [
       "(359, 359)"
      ]
     },
     "execution_count": 6,
     "metadata": {},
     "output_type": "execute_result"
    }
   ],
   "source": [
    "len(trainDFs),len(labelValues)"
   ]
  },
  {
   "cell_type": "code",
   "execution_count": 7,
   "metadata": {},
   "outputs": [
    {
     "data": {
      "text/plain": [
       "signal\n",
       "0         166\n",
       "1         133\n",
       "2          60\n",
       "dtype: int64"
      ]
     },
     "execution_count": 7,
     "metadata": {},
     "output_type": "execute_result"
    }
   ],
   "source": [
    "pd.DataFrame(labelValues,columns=['signal']).value_counts()"
   ]
  },
  {
   "cell_type": "code",
   "execution_count": 8,
   "metadata": {},
   "outputs": [],
   "source": [
    "# tempDF = trainDFs[5]\n",
    "# tempLabel = labelValues[5]\n",
    "# tempDF.columns=['Datetime','Low','High','Open','Close','Volume']\n",
    "\n",
    "\n",
    "# mpf.plot(tempDF.set_index('Datetime',),type='candle',volume=True,figsize=(5,5),axisoff=True)\n"
   ]
  },
  {
   "cell_type": "code",
   "execution_count": 9,
   "metadata": {},
   "outputs": [
    {
     "name": "stdout",
     "output_type": "stream",
     "text": [
      "0\n",
      "100\n",
      "200\n",
      "300\n"
     ]
    }
   ],
   "source": [
    "import io\n",
    "trainData = []\n",
    "for i in range(len(trainDFs)):\n",
    "    if i%100 == 0:\n",
    "        print(i)\n",
    "    tempDF = trainDFs[i]\n",
    "    tempLabel = labelValues[i]\n",
    "    tempDF.columns=['Datetime','Low','High','Open','Close','Volume']\n",
    "    buf = io.BytesIO()\n",
    "    mpf.plot(tempDF.set_index('Datetime',),type='candle',volume=True,figsize=(3,3),savefig=buf,axisoff=True)\n",
    "    buf.seek(0)\n",
    "    data =buf.read() \n",
    "    trainData.append(tf.io.decode_png(data).numpy())\n",
    "    buf.close()\n",
    "\n"
   ]
  },
  {
   "cell_type": "code",
   "execution_count": 10,
   "metadata": {},
   "outputs": [
    {
     "data": {
      "text/plain": [
       "<matplotlib.image.AxesImage at 0x2ba701f40>"
      ]
     },
     "execution_count": 10,
     "metadata": {},
     "output_type": "execute_result"
    },
    {
     "data": {
      "image/png": "[encoded data removed]",
      "text/plain": [
       "<Figure size 640x480 with 1 Axes>"
      ]
     },
     "metadata": {},
     "output_type": "display_data"
    }
   ],
   "source": [
    "plt.imshow(trainData[4])"
   ]
  },
  {
   "cell_type": "code",
   "execution_count": 11,
   "metadata": {},
   "outputs": [
    {
     "data": {
      "text/plain": [
       "(359, 359)"
      ]
     },
     "execution_count": 11,
     "metadata": {},
     "output_type": "execute_result"
    }
   ],
   "source": [
    "len(trainData),len(labelValues)"
   ]
  },
  {
   "cell_type": "code",
   "execution_count": 12,
   "metadata": {},
   "outputs": [],
   "source": [
    "\n",
    "trainDataCut,valData = trainData[:int(.8*len(trainData))],trainData[int(.8*len(trainData))+1:]\n",
    "trainLablesCut,valLabels = labelValues[:int(.8*len(labelValues))],labelValues[int(.8*len(labelValues))+1:]"
   ]
  },
  {
   "cell_type": "code",
   "execution_count": 15,
   "metadata": {},
   "outputs": [],
   "source": [
    "from keras.layers import Conv2D,MaxPooling2D,Dense,Flatten\n",
    "\n",
    "tf.random.set_seed(42)\n",
    "\n",
    "model = keras.Sequential([\n",
    "    Conv2D(30,5,input_shape=(300,300,4),activation='relu'),\n",
    "    Conv2D(30,5,activation='relu'),\n",
    "    MaxPooling2D(3),\n",
    "    Conv2D(30,5,activation='relu'),\n",
    "    Conv2D(30,5,activation='relu'),\n",
    "    MaxPooling2D(3),\n",
    "    Conv2D(30,5,activation='relu'),\n",
    "    Conv2D(30,5,activation='relu'),\n",
    "    MaxPooling2D(3),\n",
    "    Flatten(),\n",
    "    Dense(30,activation='relu'),\n",
    "    Dense(3,activation='softmax'),\n",
    "    \n",
    "])\n",
    "\n",
    "# model.summary()\n",
    "\n",
    "model.compile(\n",
    "            loss=keras.losses.sparse_categorical_crossentropy,\n",
    "            optimizer = keras.optimizers.Adam(),\n",
    "            metrics=['accuracy']\n",
    ")\n"
   ]
  },
  {
   "cell_type": "code",
   "execution_count": 16,
   "metadata": {},
   "outputs": [
    {
     "name": "stdout",
     "output_type": "stream",
     "text": [
      "Epoch 1/20\n",
      "9/9 - 12s - loss: 11.1903 - accuracy: 0.3136 - val_loss: 1.2492 - val_accuracy: 0.2394 - 12s/epoch - 1s/step\n",
      "Epoch 2/20\n",
      "9/9 - 11s - loss: 1.1855 - accuracy: 0.3763 - val_loss: 1.1260 - val_accuracy: 0.4366 - 11s/epoch - 1s/step\n",
      "Epoch 3/20\n",
      "9/9 - 11s - loss: 1.0578 - accuracy: 0.4774 - val_loss: 1.0311 - val_accuracy: 0.4366 - 11s/epoch - 1s/step\n",
      "Epoch 4/20\n"
     ]
    },
    {
     "ename": "KeyboardInterrupt",
     "evalue": "",
     "output_type": "error",
     "traceback": [
      "\u001b[0;31m---------------------------------------------------------------------------\u001b[0m",
      "\u001b[0;31mKeyboardInterrupt\u001b[0m                         Traceback (most recent call last)",
      "\u001b[1;32m/Users/alint/Desktop/Markets-Data-ML/imgCnn-market-open.ipynb Cell 17'\u001b[0m in \u001b[0;36m<cell line: 7>\u001b[0;34m()\u001b[0m\n\u001b[1;32m      <a href='vscode-notebook-cell:/Users/alint/Desktop/Markets-Data-ML/imgCnn-market-open.ipynb#ch0000016?line=2'>3</a>\u001b[0m validation_x \u001b[39m=\u001b[39m np\u001b[39m.\u001b[39masarray(valData)\n\u001b[1;32m      <a href='vscode-notebook-cell:/Users/alint/Desktop/Markets-Data-ML/imgCnn-market-open.ipynb#ch0000016?line=3'>4</a>\u001b[0m validation_y \u001b[39m=\u001b[39m np\u001b[39m.\u001b[39masarray(valLabels)\n\u001b[0;32m----> <a href='vscode-notebook-cell:/Users/alint/Desktop/Markets-Data-ML/imgCnn-market-open.ipynb#ch0000016?line=6'>7</a>\u001b[0m model\u001b[39m.\u001b[39;49mfit(train_x,train_y,epochs\u001b[39m=\u001b[39;49m\u001b[39m20\u001b[39;49m,validation_data\u001b[39m=\u001b[39;49m(validation_x,validation_y),verbose\u001b[39m=\u001b[39;49m\u001b[39m2\u001b[39;49m,)\n",
      "File \u001b[0;32m/opt/miniconda3/envs/tf/lib/python3.9/site-packages/keras/utils/traceback_utils.py:64\u001b[0m, in \u001b[0;36mfilter_traceback.<locals>.error_handler\u001b[0;34m(*args, **kwargs)\u001b[0m\n\u001b[1;32m     62\u001b[0m filtered_tb \u001b[39m=\u001b[39m \u001b[39mNone\u001b[39;00m\n\u001b[1;32m     63\u001b[0m \u001b[39mtry\u001b[39;00m:\n\u001b[0;32m---> 64\u001b[0m   \u001b[39mreturn\u001b[39;00m fn(\u001b[39m*\u001b[39;49margs, \u001b[39m*\u001b[39;49m\u001b[39m*\u001b[39;49mkwargs)\n\u001b[1;32m     65\u001b[0m \u001b[39mexcept\u001b[39;00m \u001b[39mException\u001b[39;00m \u001b[39mas\u001b[39;00m e:  \u001b[39m# pylint: disable=broad-except\u001b[39;00m\n\u001b[1;32m     66\u001b[0m   filtered_tb \u001b[39m=\u001b[39m _process_traceback_frames(e\u001b[39m.\u001b[39m__traceback__)\n",
      "File \u001b[0;32m/opt/miniconda3/envs/tf/lib/python3.9/site-packages/keras/engine/training.py:1401\u001b[0m, in \u001b[0;36mModel.fit\u001b[0;34m(self, x, y, batch_size, epochs, verbose, callbacks, validation_split, validation_data, shuffle, class_weight, sample_weight, initial_epoch, steps_per_epoch, validation_steps, validation_batch_size, validation_freq, max_queue_size, workers, use_multiprocessing)\u001b[0m\n\u001b[1;32m   1399\u001b[0m \u001b[39mwith\u001b[39;00m data_handler\u001b[39m.\u001b[39mcatch_stop_iteration():\n\u001b[1;32m   1400\u001b[0m   data_handler\u001b[39m.\u001b[39m_initial_step \u001b[39m=\u001b[39m \u001b[39mself\u001b[39m\u001b[39m.\u001b[39m_maybe_load_initial_step_from_ckpt()  \u001b[39m# pylint: disable=protected-access\u001b[39;00m\n\u001b[0;32m-> 1401\u001b[0m   \u001b[39mfor\u001b[39;00m step \u001b[39min\u001b[39;00m data_handler\u001b[39m.\u001b[39msteps():\n\u001b[1;32m   1402\u001b[0m     \u001b[39mwith\u001b[39;00m tf\u001b[39m.\u001b[39mprofiler\u001b[39m.\u001b[39mexperimental\u001b[39m.\u001b[39mTrace(\n\u001b[1;32m   1403\u001b[0m         \u001b[39m'\u001b[39m\u001b[39mtrain\u001b[39m\u001b[39m'\u001b[39m,\n\u001b[1;32m   1404\u001b[0m         epoch_num\u001b[39m=\u001b[39mepoch,\n\u001b[1;32m   1405\u001b[0m         step_num\u001b[39m=\u001b[39mstep,\n\u001b[1;32m   1406\u001b[0m         batch_size\u001b[39m=\u001b[39mbatch_size,\n\u001b[1;32m   1407\u001b[0m         _r\u001b[39m=\u001b[39m\u001b[39m1\u001b[39m):\n\u001b[1;32m   1408\u001b[0m       callbacks\u001b[39m.\u001b[39mon_train_batch_begin(step)\n",
      "File \u001b[0;32m/opt/miniconda3/envs/tf/lib/python3.9/site-packages/keras/engine/data_adapter.py:1248\u001b[0m, in \u001b[0;36mDataHandler.steps\u001b[0;34m(self)\u001b[0m\n\u001b[1;32m   1246\u001b[0m \u001b[39mif\u001b[39;00m \u001b[39mself\u001b[39m\u001b[39m.\u001b[39m_insufficient_data:  \u001b[39m# Set by `catch_stop_iteration`.\u001b[39;00m\n\u001b[1;32m   1247\u001b[0m   \u001b[39mbreak\u001b[39;00m\n\u001b[0;32m-> 1248\u001b[0m original_spe \u001b[39m=\u001b[39m \u001b[39mself\u001b[39;49m\u001b[39m.\u001b[39;49m_steps_per_execution\u001b[39m.\u001b[39;49mnumpy()\u001b[39m.\u001b[39mitem()\n\u001b[1;32m   1249\u001b[0m can_run_full_execution \u001b[39m=\u001b[39m (\n\u001b[1;32m   1250\u001b[0m     original_spe \u001b[39m==\u001b[39m \u001b[39m1\u001b[39m \u001b[39mor\u001b[39;00m\n\u001b[1;32m   1251\u001b[0m     \u001b[39mself\u001b[39m\u001b[39m.\u001b[39m_inferred_steps \u001b[39mis\u001b[39;00m \u001b[39mNone\u001b[39;00m \u001b[39mor\u001b[39;00m\n\u001b[1;32m   1252\u001b[0m     \u001b[39mself\u001b[39m\u001b[39m.\u001b[39m_inferred_steps \u001b[39m-\u001b[39m \u001b[39mself\u001b[39m\u001b[39m.\u001b[39m_current_step \u001b[39m>\u001b[39m\u001b[39m=\u001b[39m\n\u001b[1;32m   1253\u001b[0m     original_spe)\n\u001b[1;32m   1255\u001b[0m \u001b[39mif\u001b[39;00m can_run_full_execution:\n",
      "File \u001b[0;32m/opt/miniconda3/envs/tf/lib/python3.9/site-packages/tensorflow/python/ops/resource_variable_ops.py:637\u001b[0m, in \u001b[0;36mBaseResourceVariable.numpy\u001b[0;34m(self)\u001b[0m\n\u001b[1;32m    635\u001b[0m \u001b[39mdef\u001b[39;00m \u001b[39mnumpy\u001b[39m(\u001b[39mself\u001b[39m):\n\u001b[1;32m    636\u001b[0m   \u001b[39mif\u001b[39;00m context\u001b[39m.\u001b[39mexecuting_eagerly():\n\u001b[0;32m--> 637\u001b[0m     \u001b[39mreturn\u001b[39;00m \u001b[39mself\u001b[39;49m\u001b[39m.\u001b[39;49mread_value()\u001b[39m.\u001b[39;49mnumpy()\n\u001b[1;32m    638\u001b[0m   \u001b[39mraise\u001b[39;00m \u001b[39mNotImplementedError\u001b[39;00m(\n\u001b[1;32m    639\u001b[0m       \u001b[39m\"\u001b[39m\u001b[39mnumpy() is only available when eager execution is enabled.\u001b[39m\u001b[39m\"\u001b[39m)\n",
      "File \u001b[0;32m/opt/miniconda3/envs/tf/lib/python3.9/site-packages/tensorflow/python/framework/ops.py:1159\u001b[0m, in \u001b[0;36m_EagerTensorBase.numpy\u001b[0;34m(self)\u001b[0m\n\u001b[1;32m   1136\u001b[0m \u001b[39m\"\"\"Copy of the contents of this Tensor into a NumPy array or scalar.\u001b[39;00m\n\u001b[1;32m   1137\u001b[0m \n\u001b[1;32m   1138\u001b[0m \u001b[39mUnlike NumPy arrays, Tensors are immutable, so this method has to copy\u001b[39;00m\n\u001b[0;32m   (...)\u001b[0m\n\u001b[1;32m   1156\u001b[0m \u001b[39m    NumPy dtype.\u001b[39;00m\n\u001b[1;32m   1157\u001b[0m \u001b[39m\"\"\"\u001b[39;00m\n\u001b[1;32m   1158\u001b[0m \u001b[39m# TODO(slebedev): Consider avoiding a copy for non-CPU or remote tensors.\u001b[39;00m\n\u001b[0;32m-> 1159\u001b[0m maybe_arr \u001b[39m=\u001b[39m \u001b[39mself\u001b[39;49m\u001b[39m.\u001b[39;49m_numpy()  \u001b[39m# pylint: disable=protected-access\u001b[39;00m\n\u001b[1;32m   1160\u001b[0m \u001b[39mreturn\u001b[39;00m maybe_arr\u001b[39m.\u001b[39mcopy() \u001b[39mif\u001b[39;00m \u001b[39misinstance\u001b[39m(maybe_arr, np\u001b[39m.\u001b[39mndarray) \u001b[39melse\u001b[39;00m maybe_arr\n",
      "File \u001b[0;32m/opt/miniconda3/envs/tf/lib/python3.9/site-packages/tensorflow/python/framework/ops.py:1125\u001b[0m, in \u001b[0;36m_EagerTensorBase._numpy\u001b[0;34m(self)\u001b[0m\n\u001b[1;32m   1123\u001b[0m \u001b[39mdef\u001b[39;00m \u001b[39m_numpy\u001b[39m(\u001b[39mself\u001b[39m):\n\u001b[1;32m   1124\u001b[0m   \u001b[39mtry\u001b[39;00m:\n\u001b[0;32m-> 1125\u001b[0m     \u001b[39mreturn\u001b[39;00m \u001b[39mself\u001b[39;49m\u001b[39m.\u001b[39;49m_numpy_internal()\n\u001b[1;32m   1126\u001b[0m   \u001b[39mexcept\u001b[39;00m core\u001b[39m.\u001b[39m_NotOkStatusException \u001b[39mas\u001b[39;00m e:  \u001b[39m# pylint: disable=protected-access\u001b[39;00m\n\u001b[1;32m   1127\u001b[0m     \u001b[39mraise\u001b[39;00m core\u001b[39m.\u001b[39m_status_to_exception(e) \u001b[39mfrom\u001b[39;00m \u001b[39mNone\u001b[39m\n",
      "\u001b[0;31mKeyboardInterrupt\u001b[0m: "
     ]
    }
   ],
   "source": [
    "train_x = np.asarray(trainDataCut)\n",
    "train_y = np.asarray(trainLablesCut)\n",
    "validation_x = np.asarray(valData)\n",
    "validation_y = np.asarray(valLabels)\n",
    "\n",
    "\n",
    "model.fit(train_x,train_y,epochs=20,validation_data=(validation_x,validation_y),verbose=2,)"
   ]
  }
 ],
 "metadata": {
  "kernelspec": {
   "display_name": "Python 3.9.12 ('tf')",
   "language": "python",
   "name": "python3"
  },
  "language_info": {
   "codemirror_mode": {
    "name": "ipython",
    "version": 3
   },
   "file_extension": ".py",
   "mimetype": "text/x-python",
   "name": "python",
   "nbconvert_exporter": "python",
   "pygments_lexer": "ipython3",
   "version": "3.9.12"
  },
  "orig_nbformat": 4,
  "vscode": {
   "interpreter": {
    "hash": "ee3717197db56dab91ad083a26bef10706ce761f0ab8e349ac843a6f8d1f4192"
   }
  }
 },
 "nbformat": 4,
 "nbformat_minor": 2
}
