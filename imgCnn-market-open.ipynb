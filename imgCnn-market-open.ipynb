{
 "cells": [
  {
   "cell_type": "code",
   "execution_count": 2,
   "metadata": {},
   "outputs": [],
   "source": [
    "import tensorflow as tf\n",
    "import mplfinance as mpf\n",
    "import tensorflow.keras as keras\n",
    "import tensorflow.keras.utils as utils\n",
    "import pandas as pd\n",
    "import numpy as np\n",
    "import matplotlib.pyplot as plt\n",
    "import ta\n",
    "import datetime"
   ]
  },
  {
   "cell_type": "code",
   "execution_count": 3,
   "metadata": {},
   "outputs": [
    {
     "data": {
      "text/html": [
       "<div>\n",
       "<style scoped>\n",
       "    .dataframe tbody tr th:only-of-type {\n",
       "        vertical-align: middle;\n",
       "    }\n",
       "\n",
       "    .dataframe tbody tr th {\n",
       "        vertical-align: top;\n",
       "    }\n",
       "\n",
       "    .dataframe thead th {\n",
       "        text-align: right;\n",
       "    }\n",
       "</style>\n",
       "<table border=\"1\" class=\"dataframe\">\n",
       "  <thead>\n",
       "    <tr style=\"text-align: right;\">\n",
       "      <th></th>\n",
       "      <th>&lt;DATE&gt;</th>\n",
       "      <th>&lt;TIME&gt;</th>\n",
       "      <th>&lt;OPEN&gt;</th>\n",
       "      <th>&lt;HIGH&gt;</th>\n",
       "      <th>&lt;LOW&gt;</th>\n",
       "      <th>&lt;CLOSE&gt;</th>\n",
       "      <th>&lt;TICKVOL&gt;</th>\n",
       "      <th>&lt;SPREAD&gt;</th>\n",
       "    </tr>\n",
       "  </thead>\n",
       "  <tbody>\n",
       "    <tr>\n",
       "      <th>0</th>\n",
       "      <td>2018.01.22</td>\n",
       "      <td>00:00:00</td>\n",
       "      <td>0.0</td>\n",
       "      <td>0.0</td>\n",
       "      <td>0.0</td>\n",
       "      <td>0.0</td>\n",
       "      <td>0.0</td>\n",
       "      <td>0.0</td>\n",
       "    </tr>\n",
       "    <tr>\n",
       "      <th>1</th>\n",
       "      <td>2018.01.22</td>\n",
       "      <td>00:05:00</td>\n",
       "      <td>0.0</td>\n",
       "      <td>0.0</td>\n",
       "      <td>0.0</td>\n",
       "      <td>0.0</td>\n",
       "      <td>0.0</td>\n",
       "      <td>0.0</td>\n",
       "    </tr>\n",
       "    <tr>\n",
       "      <th>2</th>\n",
       "      <td>2018.01.22</td>\n",
       "      <td>00:10:00</td>\n",
       "      <td>0.0</td>\n",
       "      <td>0.0</td>\n",
       "      <td>0.0</td>\n",
       "      <td>0.0</td>\n",
       "      <td>0.0</td>\n",
       "      <td>0.0</td>\n",
       "    </tr>\n",
       "    <tr>\n",
       "      <th>3</th>\n",
       "      <td>2018.01.22</td>\n",
       "      <td>00:15:00</td>\n",
       "      <td>0.0</td>\n",
       "      <td>0.0</td>\n",
       "      <td>0.0</td>\n",
       "      <td>0.0</td>\n",
       "      <td>0.0</td>\n",
       "      <td>0.0</td>\n",
       "    </tr>\n",
       "    <tr>\n",
       "      <th>4</th>\n",
       "      <td>2018.01.22</td>\n",
       "      <td>00:20:00</td>\n",
       "      <td>0.0</td>\n",
       "      <td>0.0</td>\n",
       "      <td>0.0</td>\n",
       "      <td>0.0</td>\n",
       "      <td>0.0</td>\n",
       "      <td>0.0</td>\n",
       "    </tr>\n",
       "  </tbody>\n",
       "</table>\n",
       "</div>"
      ],
      "text/plain": [
       "       <DATE>    <TIME>  <OPEN>  <HIGH>  <LOW>  <CLOSE>  <TICKVOL>  <SPREAD>\n",
       "0  2018.01.22  00:00:00     0.0     0.0    0.0      0.0        0.0       0.0\n",
       "1  2018.01.22  00:05:00     0.0     0.0    0.0      0.0        0.0       0.0\n",
       "2  2018.01.22  00:10:00     0.0     0.0    0.0      0.0        0.0       0.0\n",
       "3  2018.01.22  00:15:00     0.0     0.0    0.0      0.0        0.0       0.0\n",
       "4  2018.01.22  00:20:00     0.0     0.0    0.0      0.0        0.0       0.0"
      ]
     },
     "execution_count": 3,
     "metadata": {},
     "output_type": "execute_result"
    }
   ],
   "source": [
    "csvFileAddress = input('csv file address') \n",
    "\n",
    "DJ = pd.read_csv(csvFileAddress,delim_whitespace=True)\n",
    "\n",
    "DJ.drop(['<VOL>'],axis=1,inplace=True)\n",
    "\n",
    "\n",
    "timeFrame = (int(DJ.iloc[1][1][1])-int(DJ.iloc[0][1][1]) ) * 60 + (int(DJ.iloc[1][1][3:5])-int(DJ.iloc[0][1][3:5]))\n",
    "CandlesInDay = 24 * (60//timeFrame)\n",
    "timeFrame\n",
    "def candleToTime(j):\n",
    "    minuteMult = CandlesInDay//24\n",
    "    k=j//minuteMult\n",
    "    sth=timeFrame*(j%minuteMult)\n",
    "    return '{:02d}:{:02d}:00'.format(k,sth)\n",
    "\n",
    "uniqueDays = DJ.drop_duplicates(subset='<DATE>')\n",
    "uniqueDays = pd.DataFrame(uniqueDays)\n",
    "\n",
    "uniqueDaysCount=uniqueDays.shape[0]\n",
    "\n",
    "newnumparr = np.full((uniqueDaysCount*CandlesInDay,2),'',dtype=np.object_)\n",
    "\n",
    "\n",
    "for i in range(uniqueDaysCount):\n",
    "    for j in range(CandlesInDay):\n",
    "        newnumparr[(i*CandlesInDay)+j]=[uniqueDays.iloc[i][0],candleToTime(j)]\n",
    "\n",
    "newDF = pd.DataFrame(newnumparr,columns=['<DATE>','<TIME>'])\n",
    "\n",
    "newestDF = newDF.merge(DJ,on=['<DATE>','<TIME>'],how='left')\n",
    "\n",
    "newestDF.fillna(0,inplace=True)\n",
    "\n",
    "uniqueDaysCount\n",
    "\n",
    "newestDF.head()"
   ]
  },
  {
   "cell_type": "code",
   "execution_count": null,
   "metadata": {},
   "outputs": [],
   "source": []
  },
  {
   "cell_type": "code",
   "execution_count": 4,
   "metadata": {},
   "outputs": [],
   "source": [
    "timeFrame = (int(newestDF.iloc[1]['<TIME>'][1])-int(newestDF.iloc[0]['<TIME>'][1]) ) * 60 + (int(newestDF.iloc[1]['<TIME>'][3:5])-int(newestDF.iloc[0]['<TIME>'][3:5]))\n",
    "CandlesInDay = 24 * (60//timeFrame)\n",
    "uniqueDaysCount = len(newestDF)//CandlesInDay"
   ]
  },
  {
   "cell_type": "code",
   "execution_count": null,
   "metadata": {},
   "outputs": [],
   "source": []
  },
  {
   "cell_type": "code",
   "execution_count": 40,
   "metadata": {},
   "outputs": [],
   "source": [
    "startCandleHour = 9.5\n",
    "startCandleIndex = int(startCandleHour * CandlesInDay )// 24\n",
    "\n",
    "windowLengthHour = 2\n",
    "windowLengthCount = int(windowLengthHour * CandlesInDay) // 24\n",
    "\n",
    "\n",
    "labelStartCandleHour = startCandleHour+windowLengthHour\n",
    "labelStartCandleIndex = int(labelStartCandleHour * CandlesInDay) // 24\n",
    "\n",
    "labelWindowLengthHour = 4\n",
    "labelWindowLengthCount = int(labelWindowLengthHour * CandlesInDay) // 24\n"
   ]
  },
  {
   "cell_type": "code",
   "execution_count": null,
   "metadata": {},
   "outputs": [],
   "source": []
  },
  {
   "cell_type": "code",
   "execution_count": 41,
   "metadata": {},
   "outputs": [],
   "source": [
    "SLTP = .003\n",
    "takeProfitPoints = 1+SLTP\n",
    "stopLoss = 1-SLTP\n",
    "\n",
    "df = newestDF.drop(['<DATE>'],axis=1)\n",
    "\n",
    "trainNPs = []\n",
    "labelsDFs = []\n",
    "labelValues = []\n",
    "trainDFs = []\n",
    "\n",
    "maxValues = df.max()\n",
    "\n",
    "for i in range(0,len(df)-CandlesInDay , CandlesInDay):\n",
    "    trainDF = df.iloc[i+startCandleIndex : (i+startCandleIndex +windowLengthCount)]\n",
    "    labelDF = df.iloc[i+labelStartCandleIndex :(i+labelStartCandleIndex+labelWindowLengthCount) ]\n",
    "\n",
    "    lowestIndex = labelDF['<LOW>'].idxmin()\n",
    "    lowestPriceInLabels = labelDF['<LOW>'][lowestIndex]\n",
    "\n",
    "    highesIndex = labelDF['<HIGH>'].idxmax()\n",
    "    highestPriceInLabels = labelDF['<HIGH>'][highesIndex]\n",
    "\n",
    "    TP = labelDF['<OPEN>'].iloc[0]*takeProfitPoints\n",
    "    SL = labelDF['<OPEN>'].iloc[0]*stopLoss\n",
    "\n",
    "    buySignal = 0\n",
    "\n",
    "    if highestPriceInLabels < TP and lowestPriceInLabels > SL:\n",
    "        # ideas : halfTP\n",
    "        buySignal=2\n",
    "        \n",
    "    elif highestPriceInLabels < TP and lowestPriceInLabels < SL:\n",
    "        buySignal = 0\n",
    "    elif highestPriceInLabels > TP and lowestPriceInLabels > SL:\n",
    "        buySignal = 1\n",
    "    else :\n",
    "        tpIndex = 0\n",
    "        slIndex = 0\n",
    "        for j in range(len(labelDF)):\n",
    "            if labelDF['<HIGH>'].iloc[j] > TP and labelDF['<LOW>'].iloc[j]>SL :\n",
    "                tpIndex=j\n",
    "            if labelDF['<HIGH>'].iloc[j] < TP and labelDF['<LOW>'].iloc[j]>SL :\n",
    "                continue\n",
    "            if labelDF['<HIGH>'].iloc[j] < TP and labelDF['<LOW>'].iloc[j]<SL :\n",
    "                slIndex=j\n",
    "        buySignal = int(tpIndex<slIndex)\n",
    "        if slIndex==tpIndex:\n",
    "            buySignal=2\n",
    "    \n",
    "\n",
    "    # trainDF =  trainDF /df.abs().max()\n",
    "\n",
    "    # trainDF = trainDF.drop(['<OPEN>','<ATR_24>','<EMA30>','<RSI>','<CCI>','<KELTNER_M>','<KELTNER_L>','<KELTNER_H>','<GREEN>'],axis=1)\n",
    "    trainDFColumnsArr = ['<TIME>','<LOW>','<HIGH>','<OPEN>','<CLOSE>','<TICKVOL>']\n",
    "    trainDFColumnsExcludeTime = trainDFColumnsArr[1:]\n",
    "    \n",
    "    trainDF = trainDF[trainDFColumnsArr]\n",
    "    trainDF['<TIME>']=pd.to_datetime(trainDF['<TIME>'],infer_datetime_format=1)\n",
    "\n",
    "\n",
    "\n",
    "    # trainDF[trainDFColumnsExcludeTime]=(trainDF[trainDFColumnsExcludeTime]-df[trainDFColumnsExcludeTime].min())/(df[trainDFColumnsExcludeTime].max()-df[trainDFColumnsExcludeTime].min())\n",
    "    \n",
    "    trainNp =(trainDF.to_numpy(dtype=np.float32))\n",
    "    # trainNp = np.rot90( trainDF.to_numpy())\n",
    "\n",
    "\n",
    "    labelValues.append(buySignal)\n",
    "    trainNPs.append(trainNp)\n",
    "    trainDFs.append(trainDF)\n",
    "    labelsDFs.append(labelDF)\n"
   ]
  },
  {
   "cell_type": "code",
   "execution_count": 42,
   "metadata": {},
   "outputs": [
    {
     "data": {
      "text/plain": [
       "(1117, 1117)"
      ]
     },
     "execution_count": 42,
     "metadata": {},
     "output_type": "execute_result"
    }
   ],
   "source": [
    "len(trainDFs),len(labelValues)"
   ]
  },
  {
   "cell_type": "code",
   "execution_count": 43,
   "metadata": {},
   "outputs": [
    {
     "data": {
      "text/plain": [
       "signal\n",
       "1         521\n",
       "0         488\n",
       "2         108\n",
       "dtype: int64"
      ]
     },
     "execution_count": 43,
     "metadata": {},
     "output_type": "execute_result"
    }
   ],
   "source": [
    "pd.DataFrame(labelValues,columns=['signal']).value_counts()"
   ]
  },
  {
   "cell_type": "code",
   "execution_count": 9,
   "metadata": {},
   "outputs": [],
   "source": [
    "# tempDF = trainDFs[5]\n",
    "# tempLabel = labelValues[5]\n",
    "# tempDF.columns=['Datetime','Low','High','Open','Close','Volume']\n",
    "\n",
    "\n",
    "# mpf.plot(tempDF.set_index('Datetime',),type='candle',volume=True,figsize=(5,5),axisoff=True)\n"
   ]
  },
  {
   "cell_type": "code",
   "execution_count": 51,
   "metadata": {},
   "outputs": [
    {
     "name": "stdout",
     "output_type": "stream",
     "text": [
      "0\n",
      "100\n",
      "200\n",
      "300\n",
      "400\n",
      "500\n",
      "600\n",
      "700\n",
      "800\n",
      "900\n",
      "1000\n",
      "1100\n"
     ]
    },
    {
     "data": {
      "text/plain": [
       "2453"
      ]
     },
     "execution_count": 51,
     "metadata": {},
     "output_type": "execute_result"
    }
   ],
   "source": [
    "import io\n",
    "import gc\n",
    "trainData = []\n",
    "for i in range(len(trainDFs)):\n",
    "    if i%100 == 0:\n",
    "        print(i)\n",
    "    tempDF = trainDFs[i]\n",
    "    tempLabel = labelValues[i]\n",
    "    tempDF.columns=['Datetime','Low','High','Open','Close','Volume']\n",
    "    with io.BytesIO() as buf:\n",
    "        keras.backend.clear_session()\n",
    "        fig,ax = mpf.plot(tempDF.set_index('Datetime',),returnfig=True,type='candle',figsize=(2.24,2.24),savefig=buf,axisoff=True)\n",
    "        \n",
    "        buf.seek(0)\n",
    "        data = buf.read()\n",
    "        with tf.device('/CPU:0'): \n",
    "            trainData.append(tf.io.decode_png(data,3).numpy())\n",
    "        buf.seek(0)\n",
    "        buf.truncate()\n",
    "        buf.flush()\n",
    "        buf.close()\n",
    "        plt.close()\n",
    "    \n",
    "gc.collect()\n",
    "\n"
   ]
  },
  {
   "cell_type": "code",
   "execution_count": null,
   "metadata": {},
   "outputs": [],
   "source": [
    "# trainDFs[7]"
   ]
  },
  {
   "cell_type": "code",
   "execution_count": 67,
   "metadata": {},
   "outputs": [],
   "source": [
    "# mpf.kwarg_help('plot')"
   ]
  },
  {
   "cell_type": "code",
   "execution_count": 70,
   "metadata": {},
   "outputs": [
    {
     "data": {
      "image/png": "[encoded data removed]",
      "text/plain": [
       "<Figure size 224x224 with 2 Axes>"
      ]
     },
     "metadata": {},
     "output_type": "display_data"
    }
   ],
   "source": [
    "mpf.plot(tempDF.set_index('Datetime',),mav=(),type='candle',figsize=(2.24,2.24),axisoff=True)"
   ]
  },
  {
   "cell_type": "code",
   "execution_count": 46,
   "metadata": {},
   "outputs": [
    {
     "data": {
      "text/plain": [
       "(1117, 1117)"
      ]
     },
     "execution_count": 46,
     "metadata": {},
     "output_type": "execute_result"
    }
   ],
   "source": [
    "len(trainData),len(labelValues)"
   ]
  },
  {
   "cell_type": "code",
   "execution_count": 52,
   "metadata": {},
   "outputs": [],
   "source": [
    "\n",
    "trainData,valData = trainData[:int(.8*len(trainData))],trainData[int(.8*len(trainData))+1:]\n",
    "trainLables,valLabels = labelValues[:int(.8*len(labelValues))],labelValues[int(.8*len(labelValues))+1:]"
   ]
  },
  {
   "cell_type": "code",
   "execution_count": 64,
   "metadata": {},
   "outputs": [
    {
     "name": "stdout",
     "output_type": "stream",
     "text": [
      "Model: \"sequential_5\"\n",
      "_________________________________________________________________\n",
      " Layer (type)                Output Shape              Param #   \n",
      "=================================================================\n",
      " conv2d_40 (Conv2D)          (None, 221, 221, 50)      2450      \n",
      "                                                                 \n",
      " conv2d_41 (Conv2D)          (None, 218, 218, 50)      40050     \n",
      "                                                                 \n",
      " max_pooling2d_20 (MaxPoolin  (None, 73, 73, 50)       0         \n",
      " g2D)                                                            \n",
      "                                                                 \n",
      " conv2d_42 (Conv2D)          (None, 70, 70, 50)        40050     \n",
      "                                                                 \n",
      " conv2d_43 (Conv2D)          (None, 67, 67, 50)        40050     \n",
      "                                                                 \n",
      " max_pooling2d_21 (MaxPoolin  (None, 34, 34, 50)       0         \n",
      " g2D)                                                            \n",
      "                                                                 \n",
      " conv2d_44 (Conv2D)          (None, 31, 31, 50)        40050     \n",
      "                                                                 \n",
      " conv2d_45 (Conv2D)          (None, 28, 28, 50)        40050     \n",
      "                                                                 \n",
      " max_pooling2d_22 (MaxPoolin  (None, 14, 14, 50)       0         \n",
      " g2D)                                                            \n",
      "                                                                 \n",
      " conv2d_46 (Conv2D)          (None, 11, 11, 50)        40050     \n",
      "                                                                 \n",
      " conv2d_47 (Conv2D)          (None, 8, 8, 50)          40050     \n",
      "                                                                 \n",
      " max_pooling2d_23 (MaxPoolin  (None, 4, 4, 50)         0         \n",
      " g2D)                                                            \n",
      "                                                                 \n",
      " flatten_5 (Flatten)         (None, 800)               0         \n",
      "                                                                 \n",
      " dense_11 (Dense)            (None, 50)                40050     \n",
      "                                                                 \n",
      " dense_12 (Dense)            (None, 50)                2550      \n",
      "                                                                 \n",
      " dense_13 (Dense)            (None, 3)                 153       \n",
      "                                                                 \n",
      "=================================================================\n",
      "Total params: 325,553\n",
      "Trainable params: 325,553\n",
      "Non-trainable params: 0\n",
      "_________________________________________________________________\n"
     ]
    }
   ],
   "source": [
    "from keras.layers import Conv2D,MaxPooling2D,Dense,Flatten\n",
    "\n",
    "tf.random.set_seed(42)\n",
    "\n",
    "model = keras.Sequential([\n",
    "    Conv2D(50,4,input_shape=trainData[0].shape,activation='relu'),\n",
    "    Conv2D(50,4,activation='relu'),\n",
    "    MaxPooling2D(3,padding='same'),\n",
    "    Conv2D(50,4,activation='relu'),\n",
    "    Conv2D(50,4,activation='relu'),\n",
    "    MaxPooling2D(2,padding='same'),\n",
    "    Conv2D(50,4,activation='relu'),\n",
    "    Conv2D(50,4,activation='relu'),\n",
    "    MaxPooling2D(2,padding='same'),\n",
    "    Conv2D(50,4,activation='relu'),\n",
    "    Conv2D(50,4,activation='relu'),\n",
    "    MaxPooling2D(2,padding='same'),\n",
    "    Flatten(),\n",
    "    Dense(50,activation='relu'),\n",
    "    Dense(50,activation='relu'),\n",
    "    Dense(3,activation='sigmoid'),\n",
    "])\n",
    "\n",
    "# model.summary()\n",
    "\n",
    "model.compile(\n",
    "            loss=keras.losses.sparse_categorical_crossentropy,\n",
    "            optimizer = keras.optimizers.Adam(learning_rate=.006),\n",
    "            metrics=['accuracy']\n",
    ")\n",
    "model.summary()"
   ]
  },
  {
   "cell_type": "code",
   "execution_count": 19,
   "metadata": {},
   "outputs": [
    {
     "data": {
      "text/plain": [
       "9598006"
      ]
     },
     "execution_count": 19,
     "metadata": {},
     "output_type": "execute_result"
    }
   ],
   "source": []
  },
  {
   "cell_type": "code",
   "execution_count": null,
   "metadata": {},
   "outputs": [],
   "source": [
    "gc.collect()\n",
    "\n",
    "trainData = np.asarray(trainData)\n",
    "trainLables = np.asarray(trainLables)\n",
    "valData = np.asarray(valData)\n",
    "valLabels = np.asarray(valLabels)\n",
    "\n",
    "\n",
    "model.fit(trainData,trainLables,batch_size=32,epochs=10,validation_data=(valData,valLabels),verbose=2,)"
   ]
  }
 ],
 "metadata": {
  "kernelspec": {
   "display_name": "Python 3.9.12 ('tf')",
   "language": "python",
   "name": "python3"
  },
  "language_info": {
   "codemirror_mode": {
    "name": "ipython",
    "version": 3
   },
   "file_extension": ".py",
   "mimetype": "text/x-python",
   "name": "python",
   "nbconvert_exporter": "python",
   "pygments_lexer": "ipython3",
   "version": "3.9.12 (main, Jun  1 2022, 06:34:44) \n[Clang 12.0.0 ]"
  },
  "orig_nbformat": 4,
  "vscode": {
   "interpreter": {
    "hash": "ee3717197db56dab91ad083a26bef10706ce761f0ab8e349ac843a6f8d1f4192"
   }
  }
 },
 "nbformat": 4,
 "nbformat_minor": 2
}
